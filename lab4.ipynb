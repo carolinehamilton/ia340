{
 "cells": [
  {
   "cell_type": "markdown",
   "metadata": {},
   "source": [
    "# Lab4"
   ]
  },
  {
   "cell_type": "markdown",
   "metadata": {},
   "source": [
    "## import libs and connect to database"
   ]
  },
  {
   "cell_type": "code",
   "execution_count": 1,
   "metadata": {},
   "outputs": [
    {
     "name": "stderr",
     "output_type": "stream",
     "text": [
      "/home/ec2-user/anaconda3/envs/python3/lib/python3.6/site-packages/psycopg2/__init__.py:144: UserWarning: The psycopg2 wheel package will be renamed from release 2.8; in order to keep installing from binary please use \"pip install psycopg2-binary\" instead. For details see: <http://initd.org/psycopg/docs/install.html#binary-install-from-pypi>.\n",
      "  \"\"\")\n"
     ]
    }
   ],
   "source": [
    "import pandas\n",
    "import configparser\n",
    "import psycopg2"
   ]
  },
  {
   "cell_type": "code",
   "execution_count": 2,
   "metadata": {},
   "outputs": [],
   "source": [
    "config = configparser.ConfigParser()\n",
    "config.read('config.ini')\n",
    "\n",
    "host = config['myaws']['host']\n",
    "db=config['myaws']['db']\n",
    "user=config['myaws']['user']\n",
    "pwd=config['myaws']['pwd']"
   ]
  },
  {
   "cell_type": "code",
   "execution_count": 3,
   "metadata": {},
   "outputs": [],
   "source": [
    "conn = psycopg2.connect(\n",
    "                    host = host,\n",
    "                    user = user,\n",
    "                    password = pwd,\n",
    "                    database = db\n",
    "                       )"
   ]
  },
  {
   "cell_type": "code",
   "execution_count": 4,
   "metadata": {},
   "outputs": [],
   "source": [
    "cur=conn.cursor()"
   ]
  },
  {
   "cell_type": "markdown",
   "metadata": {},
   "source": [
    "## q1"
   ]
  },
  {
   "cell_type": "code",
   "execution_count": 5,
   "metadata": {},
   "outputs": [],
   "source": [
    "sql_q1 = \"\"\"\n",
    "            select * from gp11.student\n",
    "            \"\"\""
   ]
  },
  {
   "cell_type": "code",
   "execution_count": 6,
   "metadata": {},
   "outputs": [
    {
     "data": {
      "text/html": [
       "<div>\n",
       "<style scoped>\n",
       "    .dataframe tbody tr th:only-of-type {\n",
       "        vertical-align: middle;\n",
       "    }\n",
       "\n",
       "    .dataframe tbody tr th {\n",
       "        vertical-align: top;\n",
       "    }\n",
       "\n",
       "    .dataframe thead th {\n",
       "        text-align: right;\n",
       "    }\n",
       "</style>\n",
       "<table border=\"1\" class=\"dataframe\">\n",
       "  <thead>\n",
       "    <tr style=\"text-align: right;\">\n",
       "      <th></th>\n",
       "      <th>s_email</th>\n",
       "      <th>s_name</th>\n",
       "      <th>major</th>\n",
       "    </tr>\n",
       "  </thead>\n",
       "  <tbody>\n",
       "    <tr>\n",
       "      <th>0</th>\n",
       "      <td>s1@dukes.jmu.edu</td>\n",
       "      <td>student 1</td>\n",
       "      <td>IA</td>\n",
       "    </tr>\n",
       "    <tr>\n",
       "      <th>1</th>\n",
       "      <td>s2@dukes.jmu.edu</td>\n",
       "      <td>student 2</td>\n",
       "      <td>IA</td>\n",
       "    </tr>\n",
       "    <tr>\n",
       "      <th>2</th>\n",
       "      <td>s3@dukes.jmu.edu</td>\n",
       "      <td>student 3</td>\n",
       "      <td>IA</td>\n",
       "    </tr>\n",
       "    <tr>\n",
       "      <th>3</th>\n",
       "      <td>s4@dukes.jmu.edu</td>\n",
       "      <td>student 4</td>\n",
       "      <td>IA</td>\n",
       "    </tr>\n",
       "    <tr>\n",
       "      <th>4</th>\n",
       "      <td>s5@dukes.jmu.edu</td>\n",
       "      <td>student 5</td>\n",
       "      <td>IA</td>\n",
       "    </tr>\n",
       "    <tr>\n",
       "      <th>5</th>\n",
       "      <td>s7@jmu.edu</td>\n",
       "      <td>s7</td>\n",
       "      <td>GS</td>\n",
       "    </tr>\n",
       "    <tr>\n",
       "      <th>6</th>\n",
       "      <td>s8@jmu.edu</td>\n",
       "      <td>s8</td>\n",
       "      <td>GS</td>\n",
       "    </tr>\n",
       "  </tbody>\n",
       "</table>\n",
       "</div>"
      ],
      "text/plain": [
       "            s_email     s_name major\n",
       "0  s1@dukes.jmu.edu  student 1    IA\n",
       "1  s2@dukes.jmu.edu  student 2    IA\n",
       "2  s3@dukes.jmu.edu  student 3    IA\n",
       "3  s4@dukes.jmu.edu  student 4    IA\n",
       "4  s5@dukes.jmu.edu  student 5    IA\n",
       "5        s7@jmu.edu         s7    GS\n",
       "6        s8@jmu.edu         s8    GS"
      ]
     },
     "execution_count": 6,
     "metadata": {},
     "output_type": "execute_result"
    }
   ],
   "source": [
    "df = pandas.read_sql_query(sql_q1,conn)\n",
    "df[:]"
   ]
  },
  {
   "cell_type": "markdown",
   "metadata": {},
   "source": [
    "## q2"
   ]
  },
  {
   "cell_type": "code",
   "execution_count": 7,
   "metadata": {},
   "outputs": [],
   "source": [
    "sql_q2 = \"\"\"\n",
    "        select gp11.professor.p_name,\n",
    "        gp11.course.c_name\n",
    "        from gp11.professor\n",
    "        inner join gp11.course\n",
    "        on gp11.professor.p_email = gp11.course.p_email\n",
    "        \"\"\""
   ]
  },
  {
   "cell_type": "code",
   "execution_count": 8,
   "metadata": {},
   "outputs": [
    {
     "data": {
      "text/html": [
       "<div>\n",
       "<style scoped>\n",
       "    .dataframe tbody tr th:only-of-type {\n",
       "        vertical-align: middle;\n",
       "    }\n",
       "\n",
       "    .dataframe tbody tr th {\n",
       "        vertical-align: top;\n",
       "    }\n",
       "\n",
       "    .dataframe thead th {\n",
       "        text-align: right;\n",
       "    }\n",
       "</style>\n",
       "<table border=\"1\" class=\"dataframe\">\n",
       "  <thead>\n",
       "    <tr style=\"text-align: right;\">\n",
       "      <th></th>\n",
       "      <th>p_name</th>\n",
       "      <th>c_name</th>\n",
       "    </tr>\n",
       "  </thead>\n",
       "  <tbody>\n",
       "    <tr>\n",
       "      <th>0</th>\n",
       "      <td>noel hendrickson</td>\n",
       "      <td>intro to ia</td>\n",
       "    </tr>\n",
       "    <tr>\n",
       "      <th>1</th>\n",
       "      <td>orlandrew danzell</td>\n",
       "      <td>intro to nat sec</td>\n",
       "    </tr>\n",
       "    <tr>\n",
       "      <th>2</th>\n",
       "      <td>Kathleen Moore</td>\n",
       "      <td>tech apps</td>\n",
       "    </tr>\n",
       "    <tr>\n",
       "      <th>3</th>\n",
       "      <td>Timothy walton</td>\n",
       "      <td>hyp testing</td>\n",
       "    </tr>\n",
       "    <tr>\n",
       "      <th>4</th>\n",
       "      <td>noel hendrickson</td>\n",
       "      <td>counter reasoning</td>\n",
       "    </tr>\n",
       "    <tr>\n",
       "      <th>5</th>\n",
       "      <td>Stephen marrin</td>\n",
       "      <td>capstone</td>\n",
       "    </tr>\n",
       "    <tr>\n",
       "      <th>6</th>\n",
       "      <td>ron raab</td>\n",
       "      <td>wmd</td>\n",
       "    </tr>\n",
       "    <tr>\n",
       "      <th>7</th>\n",
       "      <td>Kathleen Moore</td>\n",
       "      <td>hacking diplomacy</td>\n",
       "    </tr>\n",
       "    <tr>\n",
       "      <th>8</th>\n",
       "      <td>Stephen marrin</td>\n",
       "      <td>honor thesis</td>\n",
       "    </tr>\n",
       "    <tr>\n",
       "      <th>9</th>\n",
       "      <td>new_p</td>\n",
       "      <td>new_c_name</td>\n",
       "    </tr>\n",
       "    <tr>\n",
       "      <th>10</th>\n",
       "      <td>new_p</td>\n",
       "      <td>data mining</td>\n",
       "    </tr>\n",
       "  </tbody>\n",
       "</table>\n",
       "</div>"
      ],
      "text/plain": [
       "               p_name             c_name\n",
       "0    noel hendrickson        intro to ia\n",
       "1   orlandrew danzell   intro to nat sec\n",
       "2      Kathleen Moore          tech apps\n",
       "3      Timothy walton        hyp testing\n",
       "4    noel hendrickson  counter reasoning\n",
       "5      Stephen marrin           capstone\n",
       "6            ron raab                wmd\n",
       "7      Kathleen Moore  hacking diplomacy\n",
       "8      Stephen marrin       honor thesis\n",
       "9               new_p         new_c_name\n",
       "10              new_p        data mining"
      ]
     },
     "execution_count": 8,
     "metadata": {},
     "output_type": "execute_result"
    }
   ],
   "source": [
    "df = pandas.read_sql_query(sql_q2,conn)\n",
    "df[:]"
   ]
  },
  {
   "cell_type": "markdown",
   "metadata": {},
   "source": [
    "## q3"
   ]
  },
  {
   "cell_type": "code",
   "execution_count": 9,
   "metadata": {},
   "outputs": [],
   "source": [
    "sql_q3 = \"\"\"\n",
    "        select c_number,\n",
    "        count(c_number) as enrolled\n",
    "        from gp11.enroll_list\n",
    "        group by c_number\n",
    "        order by enrolled desc\n",
    "        \"\"\""
   ]
  },
  {
   "cell_type": "code",
   "execution_count": 10,
   "metadata": {},
   "outputs": [
    {
     "data": {
      "text/plain": [
       "<matplotlib.axes._subplots.AxesSubplot at 0x7f8bc4dfc1d0>"
      ]
     },
     "execution_count": 10,
     "metadata": {},
     "output_type": "execute_result"
    },
    {
     "data": {
      "image/png": "[encoded data removed]",
      "text/plain": [
       "<Figure size 432x288 with 1 Axes>"
      ]
     },
     "metadata": {
      "needs_background": "light"
     },
     "output_type": "display_data"
    }
   ],
   "source": [
    "df = pandas.read_sql_query(sql_q3,conn)\n",
    "df.plot.bar(y='enrolled',x='c_number')"
   ]
  },
  {
   "cell_type": "markdown",
   "metadata": {},
   "source": [
    "## q4"
   ]
  },
  {
   "cell_type": "code",
   "execution_count": 11,
   "metadata": {},
   "outputs": [],
   "source": [
    "sql_q4 = \"\"\"\n",
    "        select gp11.professor.p_name,\n",
    "        count(gp11.course.c_name) as teaching_number\n",
    "        from gp11.professor\n",
    "        inner join gp11.course\n",
    "        on gp11.professor.p_email = gp11.course.p_email\n",
    "        group by professor.p_name\n",
    "        order by teaching_number desc\n",
    "        \"\"\""
   ]
  },
  {
   "cell_type": "code",
   "execution_count": 12,
   "metadata": {},
   "outputs": [
    {
     "data": {
      "text/plain": [
       "<matplotlib.axes._subplots.AxesSubplot at 0x7f8bc4542278>"
      ]
     },
     "execution_count": 12,
     "metadata": {},
     "output_type": "execute_result"
    },
    {
     "data": {
      "image/png": "[encoded data removed]",
      "text/plain": [
       "<Figure size 432x288 with 1 Axes>"
      ]
     },
     "metadata": {
      "needs_background": "light"
     },
     "output_type": "display_data"
    }
   ],
   "source": [
    "df = pandas.read_sql_query(sql_q4,conn)\n",
    "df.plot.bar(y='teaching_number',x='p_name')"
   ]
  },
  {
   "cell_type": "markdown",
   "metadata": {},
   "source": [
    "# q5"
   ]
  },
  {
   "cell_type": "code",
   "execution_count": 31,
   "metadata": {},
   "outputs": [],
   "source": [
    "sql_q5_professor = \"\"\"\n",
    "                    insert into gp11.professor(p_email,p_name,office)\n",
    "                    values('{}','{}','{}')\n",
    "                    \"\"\".format('hami@jmu.edu','new_p','new_off')"
   ]
  },
  {
   "cell_type": "code",
   "execution_count": 32,
   "metadata": {},
   "outputs": [],
   "source": [
    "cur.execute(sql_q5_professor)"
   ]
  },
  {
   "cell_type": "code",
   "execution_count": 33,
   "metadata": {},
   "outputs": [],
   "source": [
    "conn.commit()"
   ]
  },
  {
   "cell_type": "code",
   "execution_count": 34,
   "metadata": {},
   "outputs": [
    {
     "data": {
      "text/html": [
       "<div>\n",
       "<style scoped>\n",
       "    .dataframe tbody tr th:only-of-type {\n",
       "        vertical-align: middle;\n",
       "    }\n",
       "\n",
       "    .dataframe tbody tr th {\n",
       "        vertical-align: top;\n",
       "    }\n",
       "\n",
       "    .dataframe thead th {\n",
       "        text-align: right;\n",
       "    }\n",
       "</style>\n",
       "<table border=\"1\" class=\"dataframe\">\n",
       "  <thead>\n",
       "    <tr style=\"text-align: right;\">\n",
       "      <th></th>\n",
       "      <th>p_email</th>\n",
       "      <th>p_name</th>\n",
       "      <th>office</th>\n",
       "    </tr>\n",
       "  </thead>\n",
       "  <tbody>\n",
       "    <tr>\n",
       "      <th>0</th>\n",
       "      <td>danzelox@jmu.edu</td>\n",
       "      <td>orlandrew danzell</td>\n",
       "      <td>n/a</td>\n",
       "    </tr>\n",
       "    <tr>\n",
       "      <th>1</th>\n",
       "      <td>hendrinx@jmu.edu</td>\n",
       "      <td>noel hendrickson</td>\n",
       "      <td>n a</td>\n",
       "    </tr>\n",
       "    <tr>\n",
       "      <th>2</th>\n",
       "      <td>marrinsp@jmu.edu</td>\n",
       "      <td>Stephen marrin</td>\n",
       "      <td>engeo 2104</td>\n",
       "    </tr>\n",
       "    <tr>\n",
       "      <th>3</th>\n",
       "      <td>moore8ka@jmu.edu</td>\n",
       "      <td>Kathleen Moore</td>\n",
       "      <td>isat 116</td>\n",
       "    </tr>\n",
       "    <tr>\n",
       "      <th>4</th>\n",
       "      <td>raabrw@jmu.edu</td>\n",
       "      <td>ron raab</td>\n",
       "      <td>isat 156</td>\n",
       "    </tr>\n",
       "    <tr>\n",
       "      <th>5</th>\n",
       "      <td>teateaa@jmu.edu</td>\n",
       "      <td>Anthony teate</td>\n",
       "      <td>isat 126</td>\n",
       "    </tr>\n",
       "    <tr>\n",
       "      <th>6</th>\n",
       "      <td>waltontr@jmu.edu</td>\n",
       "      <td>Timothy walton</td>\n",
       "      <td>isat 326</td>\n",
       "    </tr>\n",
       "    <tr>\n",
       "      <th>7</th>\n",
       "      <td>tangjd@jmu.edu</td>\n",
       "      <td>Jeffrey tang</td>\n",
       "      <td>isat 368</td>\n",
       "    </tr>\n",
       "    <tr>\n",
       "      <th>8</th>\n",
       "      <td>mcgrawdk@jmu.edu</td>\n",
       "      <td>David McGraw</td>\n",
       "      <td>isat 352</td>\n",
       "    </tr>\n",
       "    <tr>\n",
       "      <th>9</th>\n",
       "      <td>new_p@jmu.edu</td>\n",
       "      <td>new_p</td>\n",
       "      <td>new_office</td>\n",
       "    </tr>\n",
       "    <tr>\n",
       "      <th>10</th>\n",
       "      <td>newp@jmu.edu</td>\n",
       "      <td>new_p</td>\n",
       "      <td>newoffice</td>\n",
       "    </tr>\n",
       "    <tr>\n",
       "      <th>11</th>\n",
       "      <td>hami@jmu.edu</td>\n",
       "      <td>new_p</td>\n",
       "      <td>new_off</td>\n",
       "    </tr>\n",
       "  </tbody>\n",
       "</table>\n",
       "</div>"
      ],
      "text/plain": [
       "             p_email             p_name      office\n",
       "0   danzelox@jmu.edu  orlandrew danzell         n/a\n",
       "1   hendrinx@jmu.edu   noel hendrickson         n a\n",
       "2   marrinsp@jmu.edu     Stephen marrin  engeo 2104\n",
       "3   moore8ka@jmu.edu     Kathleen Moore    isat 116\n",
       "4     raabrw@jmu.edu           ron raab    isat 156\n",
       "5    teateaa@jmu.edu      Anthony teate    isat 126\n",
       "6   waltontr@jmu.edu     Timothy walton    isat 326\n",
       "7     tangjd@jmu.edu       Jeffrey tang    isat 368\n",
       "8   mcgrawdk@jmu.edu       David McGraw    isat 352\n",
       "9      new_p@jmu.edu              new_p  new_office\n",
       "10      newp@jmu.edu              new_p   newoffice\n",
       "11      hami@jmu.edu              new_p     new_off"
      ]
     },
     "execution_count": 34,
     "metadata": {},
     "output_type": "execute_result"
    }
   ],
   "source": [
    "df=pandas.read_sql_query('select * from gp11.professor',conn)\n",
    "df[:]"
   ]
  },
  {
   "cell_type": "code",
   "execution_count": 41,
   "metadata": {},
   "outputs": [],
   "source": [
    "sql_q5_course = \"\"\"\n",
    "                insert into gp11.course(c_number,c_name,room,p_email)\n",
    "                values ('{}','{}','{}','{}')\n",
    "                \"\"\".format('ia_ne','new_c_name','online','newp@jmu.edu')"
   ]
  },
  {
   "cell_type": "code",
   "execution_count": 42,
   "metadata": {},
   "outputs": [],
   "source": [
    "cur.execute(sql_q5_course)"
   ]
  },
  {
   "cell_type": "code",
   "execution_count": 43,
   "metadata": {},
   "outputs": [],
   "source": [
    "cur.execute(\"ROLLBACK\")"
   ]
  },
  {
   "cell_type": "code",
   "execution_count": 44,
   "metadata": {},
   "outputs": [],
   "source": [
    "conn.commit()"
   ]
  },
  {
   "cell_type": "code",
   "execution_count": 45,
   "metadata": {},
   "outputs": [
    {
     "data": {
      "text/html": [
       "<div>\n",
       "<style scoped>\n",
       "    .dataframe tbody tr th:only-of-type {\n",
       "        vertical-align: middle;\n",
       "    }\n",
       "\n",
       "    .dataframe tbody tr th {\n",
       "        vertical-align: top;\n",
       "    }\n",
       "\n",
       "    .dataframe thead th {\n",
       "        text-align: right;\n",
       "    }\n",
       "</style>\n",
       "<table border=\"1\" class=\"dataframe\">\n",
       "  <thead>\n",
       "    <tr style=\"text-align: right;\">\n",
       "      <th></th>\n",
       "      <th>c_number</th>\n",
       "      <th>c_name</th>\n",
       "      <th>room</th>\n",
       "      <th>p_email</th>\n",
       "    </tr>\n",
       "  </thead>\n",
       "  <tbody>\n",
       "    <tr>\n",
       "      <th>0</th>\n",
       "      <td>ia150</td>\n",
       "      <td>intro to ia</td>\n",
       "      <td>engeo 2301</td>\n",
       "      <td>hendrinx@jmu.edu</td>\n",
       "    </tr>\n",
       "    <tr>\n",
       "      <th>1</th>\n",
       "      <td>ia200</td>\n",
       "      <td>intro to nat sec</td>\n",
       "      <td>fest 1022</td>\n",
       "      <td>danzelox@jmu.edu</td>\n",
       "    </tr>\n",
       "    <tr>\n",
       "      <th>2</th>\n",
       "      <td>ia240</td>\n",
       "      <td>tech apps</td>\n",
       "      <td>online</td>\n",
       "      <td>moore8ka@jmu.edu</td>\n",
       "    </tr>\n",
       "    <tr>\n",
       "      <th>3</th>\n",
       "      <td>ia261</td>\n",
       "      <td>hyp testing</td>\n",
       "      <td>isat 0148</td>\n",
       "      <td>waltontr@jmu.edu</td>\n",
       "    </tr>\n",
       "    <tr>\n",
       "      <th>4</th>\n",
       "      <td>ia313</td>\n",
       "      <td>counter reasoning</td>\n",
       "      <td>isat 0148</td>\n",
       "      <td>hendrinx@jmu.edu</td>\n",
       "    </tr>\n",
       "    <tr>\n",
       "      <th>5</th>\n",
       "      <td>ia440</td>\n",
       "      <td>capstone</td>\n",
       "      <td>engeo 1301</td>\n",
       "      <td>marrinsp@jmu.edu</td>\n",
       "    </tr>\n",
       "    <tr>\n",
       "      <th>6</th>\n",
       "      <td>ia459</td>\n",
       "      <td>wmd</td>\n",
       "      <td>engeo 1301</td>\n",
       "      <td>raabrw@jmu.edu</td>\n",
       "    </tr>\n",
       "    <tr>\n",
       "      <th>7</th>\n",
       "      <td>ia480</td>\n",
       "      <td>hacking diplomacy</td>\n",
       "      <td>TBA</td>\n",
       "      <td>moore8ka@jmu.edu</td>\n",
       "    </tr>\n",
       "    <tr>\n",
       "      <th>8</th>\n",
       "      <td>ia499B</td>\n",
       "      <td>honor thesis</td>\n",
       "      <td>TBA</td>\n",
       "      <td>marrinsp@jmu.edu</td>\n",
       "    </tr>\n",
       "    <tr>\n",
       "      <th>9</th>\n",
       "      <td>ia_new</td>\n",
       "      <td>new_c_name</td>\n",
       "      <td>online</td>\n",
       "      <td>new_p@jmu.edu</td>\n",
       "    </tr>\n",
       "    <tr>\n",
       "      <th>10</th>\n",
       "      <td>ia340</td>\n",
       "      <td>data mining</td>\n",
       "      <td>online</td>\n",
       "      <td>new_p@jmu.edu</td>\n",
       "    </tr>\n",
       "    <tr>\n",
       "      <th>11</th>\n",
       "      <td>ia_n</td>\n",
       "      <td>new_c_name</td>\n",
       "      <td>online</td>\n",
       "      <td>newp@jmu.edu</td>\n",
       "    </tr>\n",
       "  </tbody>\n",
       "</table>\n",
       "</div>"
      ],
      "text/plain": [
       "   c_number             c_name        room           p_email\n",
       "0     ia150        intro to ia  engeo 2301  hendrinx@jmu.edu\n",
       "1     ia200   intro to nat sec   fest 1022  danzelox@jmu.edu\n",
       "2     ia240          tech apps      online  moore8ka@jmu.edu\n",
       "3     ia261        hyp testing   isat 0148  waltontr@jmu.edu\n",
       "4     ia313  counter reasoning   isat 0148  hendrinx@jmu.edu\n",
       "5     ia440           capstone  engeo 1301  marrinsp@jmu.edu\n",
       "6     ia459                wmd  engeo 1301    raabrw@jmu.edu\n",
       "7     ia480  hacking diplomacy         TBA  moore8ka@jmu.edu\n",
       "8    ia499B       honor thesis         TBA  marrinsp@jmu.edu\n",
       "9    ia_new         new_c_name      online     new_p@jmu.edu\n",
       "10    ia340        data mining      online     new_p@jmu.edu\n",
       "11     ia_n         new_c_name      online      newp@jmu.edu"
      ]
     },
     "execution_count": 45,
     "metadata": {},
     "output_type": "execute_result"
    }
   ],
   "source": [
    "df = pandas.read_sql_query('select * from gp11.course',conn)\n",
    "df[:]"
   ]
  },
  {
   "cell_type": "markdown",
   "metadata": {},
   "source": [
    "## q6"
   ]
  },
  {
   "cell_type": "code",
   "execution_count": 47,
   "metadata": {},
   "outputs": [],
   "source": [
    "sql_q6_course = \"\"\"\n",
    "                update gp11.course\n",
    "                set p_email = '{}'\n",
    "                where p_email = '{}'\n",
    "                \"\"\".format('new_p@jmu.edu','weixx@jmu.edu')"
   ]
  },
  {
   "cell_type": "code",
   "execution_count": 49,
   "metadata": {},
   "outputs": [],
   "source": [
    "cur.execute(sql_q6_course)"
   ]
  },
  {
   "cell_type": "code",
   "execution_count": 50,
   "metadata": {},
   "outputs": [],
   "source": [
    "conn.commit()"
   ]
  },
  {
   "cell_type": "code",
   "execution_count": 51,
   "metadata": {},
   "outputs": [
    {
     "data": {
      "text/html": [
       "<div>\n",
       "<style scoped>\n",
       "    .dataframe tbody tr th:only-of-type {\n",
       "        vertical-align: middle;\n",
       "    }\n",
       "\n",
       "    .dataframe tbody tr th {\n",
       "        vertical-align: top;\n",
       "    }\n",
       "\n",
       "    .dataframe thead th {\n",
       "        text-align: right;\n",
       "    }\n",
       "</style>\n",
       "<table border=\"1\" class=\"dataframe\">\n",
       "  <thead>\n",
       "    <tr style=\"text-align: right;\">\n",
       "      <th></th>\n",
       "      <th>c_number</th>\n",
       "      <th>c_name</th>\n",
       "      <th>room</th>\n",
       "      <th>p_email</th>\n",
       "    </tr>\n",
       "  </thead>\n",
       "  <tbody>\n",
       "    <tr>\n",
       "      <th>0</th>\n",
       "      <td>ia150</td>\n",
       "      <td>intro to ia</td>\n",
       "      <td>engeo 2301</td>\n",
       "      <td>hendrinx@jmu.edu</td>\n",
       "    </tr>\n",
       "    <tr>\n",
       "      <th>1</th>\n",
       "      <td>ia200</td>\n",
       "      <td>intro to nat sec</td>\n",
       "      <td>fest 1022</td>\n",
       "      <td>danzelox@jmu.edu</td>\n",
       "    </tr>\n",
       "    <tr>\n",
       "      <th>2</th>\n",
       "      <td>ia240</td>\n",
       "      <td>tech apps</td>\n",
       "      <td>online</td>\n",
       "      <td>moore8ka@jmu.edu</td>\n",
       "    </tr>\n",
       "    <tr>\n",
       "      <th>3</th>\n",
       "      <td>ia261</td>\n",
       "      <td>hyp testing</td>\n",
       "      <td>isat 0148</td>\n",
       "      <td>waltontr@jmu.edu</td>\n",
       "    </tr>\n",
       "    <tr>\n",
       "      <th>4</th>\n",
       "      <td>ia313</td>\n",
       "      <td>counter reasoning</td>\n",
       "      <td>isat 0148</td>\n",
       "      <td>hendrinx@jmu.edu</td>\n",
       "    </tr>\n",
       "    <tr>\n",
       "      <th>5</th>\n",
       "      <td>ia440</td>\n",
       "      <td>capstone</td>\n",
       "      <td>engeo 1301</td>\n",
       "      <td>marrinsp@jmu.edu</td>\n",
       "    </tr>\n",
       "    <tr>\n",
       "      <th>6</th>\n",
       "      <td>ia459</td>\n",
       "      <td>wmd</td>\n",
       "      <td>engeo 1301</td>\n",
       "      <td>raabrw@jmu.edu</td>\n",
       "    </tr>\n",
       "    <tr>\n",
       "      <th>7</th>\n",
       "      <td>ia480</td>\n",
       "      <td>hacking diplomacy</td>\n",
       "      <td>TBA</td>\n",
       "      <td>moore8ka@jmu.edu</td>\n",
       "    </tr>\n",
       "    <tr>\n",
       "      <th>8</th>\n",
       "      <td>ia499B</td>\n",
       "      <td>honor thesis</td>\n",
       "      <td>TBA</td>\n",
       "      <td>marrinsp@jmu.edu</td>\n",
       "    </tr>\n",
       "    <tr>\n",
       "      <th>9</th>\n",
       "      <td>ia_new</td>\n",
       "      <td>new_c_name</td>\n",
       "      <td>online</td>\n",
       "      <td>new_p@jmu.edu</td>\n",
       "    </tr>\n",
       "    <tr>\n",
       "      <th>10</th>\n",
       "      <td>ia340</td>\n",
       "      <td>data mining</td>\n",
       "      <td>online</td>\n",
       "      <td>new_p@jmu.edu</td>\n",
       "    </tr>\n",
       "    <tr>\n",
       "      <th>11</th>\n",
       "      <td>ia_n</td>\n",
       "      <td>new_c_name</td>\n",
       "      <td>online</td>\n",
       "      <td>newp@jmu.edu</td>\n",
       "    </tr>\n",
       "  </tbody>\n",
       "</table>\n",
       "</div>"
      ],
      "text/plain": [
       "   c_number             c_name        room           p_email\n",
       "0     ia150        intro to ia  engeo 2301  hendrinx@jmu.edu\n",
       "1     ia200   intro to nat sec   fest 1022  danzelox@jmu.edu\n",
       "2     ia240          tech apps      online  moore8ka@jmu.edu\n",
       "3     ia261        hyp testing   isat 0148  waltontr@jmu.edu\n",
       "4     ia313  counter reasoning   isat 0148  hendrinx@jmu.edu\n",
       "5     ia440           capstone  engeo 1301  marrinsp@jmu.edu\n",
       "6     ia459                wmd  engeo 1301    raabrw@jmu.edu\n",
       "7     ia480  hacking diplomacy         TBA  moore8ka@jmu.edu\n",
       "8    ia499B       honor thesis         TBA  marrinsp@jmu.edu\n",
       "9    ia_new         new_c_name      online     new_p@jmu.edu\n",
       "10    ia340        data mining      online     new_p@jmu.edu\n",
       "11     ia_n         new_c_name      online      newp@jmu.edu"
      ]
     },
     "execution_count": 51,
     "metadata": {},
     "output_type": "execute_result"
    }
   ],
   "source": [
    "df=pandas.read_sql_query('select * from gp11.course',conn)\n",
    "df[:]"
   ]
  },
  {
   "cell_type": "code",
   "execution_count": 52,
   "metadata": {},
   "outputs": [],
   "source": [
    "sql_q6_professor = \"\"\"\n",
    "                    delete from gp11.professor\n",
    "                    where p_email = '{}'\n",
    "                    \"\"\".format('weixx@jmu.edu')"
   ]
  },
  {
   "cell_type": "code",
   "execution_count": 53,
   "metadata": {},
   "outputs": [],
   "source": [
    "cur.execute(sql_q6_professor)"
   ]
  },
  {
   "cell_type": "code",
   "execution_count": 54,
   "metadata": {},
   "outputs": [],
   "source": [
    "conn.commit()"
   ]
  },
  {
   "cell_type": "code",
   "execution_count": 57,
   "metadata": {},
   "outputs": [
    {
     "data": {
      "text/html": [
       "<div>\n",
       "<style scoped>\n",
       "    .dataframe tbody tr th:only-of-type {\n",
       "        vertical-align: middle;\n",
       "    }\n",
       "\n",
       "    .dataframe tbody tr th {\n",
       "        vertical-align: top;\n",
       "    }\n",
       "\n",
       "    .dataframe thead th {\n",
       "        text-align: right;\n",
       "    }\n",
       "</style>\n",
       "<table border=\"1\" class=\"dataframe\">\n",
       "  <thead>\n",
       "    <tr style=\"text-align: right;\">\n",
       "      <th></th>\n",
       "      <th>p_email</th>\n",
       "      <th>p_name</th>\n",
       "      <th>office</th>\n",
       "    </tr>\n",
       "  </thead>\n",
       "  <tbody>\n",
       "    <tr>\n",
       "      <th>0</th>\n",
       "      <td>danzelox@jmu.edu</td>\n",
       "      <td>orlandrew danzell</td>\n",
       "      <td>n/a</td>\n",
       "    </tr>\n",
       "    <tr>\n",
       "      <th>1</th>\n",
       "      <td>hendrinx@jmu.edu</td>\n",
       "      <td>noel hendrickson</td>\n",
       "      <td>n a</td>\n",
       "    </tr>\n",
       "    <tr>\n",
       "      <th>2</th>\n",
       "      <td>marrinsp@jmu.edu</td>\n",
       "      <td>Stephen marrin</td>\n",
       "      <td>engeo 2104</td>\n",
       "    </tr>\n",
       "    <tr>\n",
       "      <th>3</th>\n",
       "      <td>moore8ka@jmu.edu</td>\n",
       "      <td>Kathleen Moore</td>\n",
       "      <td>isat 116</td>\n",
       "    </tr>\n",
       "    <tr>\n",
       "      <th>4</th>\n",
       "      <td>raabrw@jmu.edu</td>\n",
       "      <td>ron raab</td>\n",
       "      <td>isat 156</td>\n",
       "    </tr>\n",
       "    <tr>\n",
       "      <th>5</th>\n",
       "      <td>teateaa@jmu.edu</td>\n",
       "      <td>Anthony teate</td>\n",
       "      <td>isat 126</td>\n",
       "    </tr>\n",
       "    <tr>\n",
       "      <th>6</th>\n",
       "      <td>waltontr@jmu.edu</td>\n",
       "      <td>Timothy walton</td>\n",
       "      <td>isat 326</td>\n",
       "    </tr>\n",
       "    <tr>\n",
       "      <th>7</th>\n",
       "      <td>tangjd@jmu.edu</td>\n",
       "      <td>Jeffrey tang</td>\n",
       "      <td>isat 368</td>\n",
       "    </tr>\n",
       "    <tr>\n",
       "      <th>8</th>\n",
       "      <td>mcgrawdk@jmu.edu</td>\n",
       "      <td>David McGraw</td>\n",
       "      <td>isat 352</td>\n",
       "    </tr>\n",
       "    <tr>\n",
       "      <th>9</th>\n",
       "      <td>new_p@jmu.edu</td>\n",
       "      <td>new_p</td>\n",
       "      <td>new_office</td>\n",
       "    </tr>\n",
       "    <tr>\n",
       "      <th>10</th>\n",
       "      <td>newp@jmu.edu</td>\n",
       "      <td>new_p</td>\n",
       "      <td>newoffice</td>\n",
       "    </tr>\n",
       "    <tr>\n",
       "      <th>11</th>\n",
       "      <td>hami@jmu.edu</td>\n",
       "      <td>new_p</td>\n",
       "      <td>new_off</td>\n",
       "    </tr>\n",
       "  </tbody>\n",
       "</table>\n",
       "</div>"
      ],
      "text/plain": [
       "             p_email             p_name      office\n",
       "0   danzelox@jmu.edu  orlandrew danzell         n/a\n",
       "1   hendrinx@jmu.edu   noel hendrickson         n a\n",
       "2   marrinsp@jmu.edu     Stephen marrin  engeo 2104\n",
       "3   moore8ka@jmu.edu     Kathleen Moore    isat 116\n",
       "4     raabrw@jmu.edu           ron raab    isat 156\n",
       "5    teateaa@jmu.edu      Anthony teate    isat 126\n",
       "6   waltontr@jmu.edu     Timothy walton    isat 326\n",
       "7     tangjd@jmu.edu       Jeffrey tang    isat 368\n",
       "8   mcgrawdk@jmu.edu       David McGraw    isat 352\n",
       "9      new_p@jmu.edu              new_p  new_office\n",
       "10      newp@jmu.edu              new_p   newoffice\n",
       "11      hami@jmu.edu              new_p     new_off"
      ]
     },
     "execution_count": 57,
     "metadata": {},
     "output_type": "execute_result"
    }
   ],
   "source": [
    "df=pandas.read_sql_query('select * from gp11.professor',conn)\n",
    "df[:]"
   ]
  },
  {
   "cell_type": "markdown",
   "metadata": {},
   "source": [
    "## close connection"
   ]
  },
  {
   "cell_type": "code",
   "execution_count": 58,
   "metadata": {},
   "outputs": [],
   "source": [
    "cur.close()\n",
    "conn.close()"
   ]
  },
  {
   "cell_type": "code",
   "execution_count": null,
   "metadata": {},
   "outputs": [],
   "source": []
  }
 ],
 "metadata": {
  "kernelspec": {
   "display_name": "conda_python3",
   "language": "python",
   "name": "conda_python3"
  },
  "language_info": {
   "codemirror_mode": {
    "name": "ipython",
    "version": 3
   },
   "file_extension": ".py",
   "mimetype": "text/x-python",
   "name": "python",
   "nbconvert_exporter": "python",
   "pygments_lexer": "ipython3",
   "version": "3.6.10"
  }
 },
 "nbformat": 4,
 "nbformat_minor": 4
}
